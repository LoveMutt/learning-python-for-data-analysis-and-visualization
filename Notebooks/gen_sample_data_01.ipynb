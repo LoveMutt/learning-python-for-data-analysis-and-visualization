{
 "cells": [
  {
   "cell_type": "code",
   "execution_count": 6,
   "metadata": {},
   "outputs": [],
   "source": [
    "import os\n",
    "import json\n",
    "import csv\n",
    "import random"
   ]
  },
  {
   "cell_type": "code",
   "execution_count": 23,
   "metadata": {},
   "outputs": [],
   "source": [
    "DIRNAME = 'data'\n",
    "FN_CSV = os.path.join(DIRNAME, 'example_classified_data_01.csv')\n",
    "FN_JSON = os.path.join(DIRNAME, 'example_classified_data_01.json')\n",
    "UNK_CSV = os.path.join(DIRNAME, 'example_unclassified_data_01.csv')\n",
    "GOOD_SIZE = 5\n",
    "BAD_SIZE = 100\n",
    "VARIATION = 5\n",
    "GOOD_CLASS = 'good'\n",
    "BAD_CLASS = 'bad'\n",
    "ALPHABET = 'abcdefghijklmnopqrstuvwxyz'"
   ]
  },
  {
   "cell_type": "code",
   "execution_count": 31,
   "metadata": {},
   "outputs": [],
   "source": [
    "def gen_name():\n",
    "    while True:\n",
    "        name = ''.join(random.sample(ALPHABET, 6))\n",
    "        yield name\n",
    "\n",
    "def gen_good_size():\n",
    "    while True:\n",
    "        variation = random.randint(-1 * VARIATION, VARIATION)\n",
    "        yield GOOD_SIZE + variation\n",
    "        \n",
    "def gen_bad_size():\n",
    "    while True:\n",
    "        variation = random.randint(-1 * VARIATION, VARIATION)\n",
    "        yield BAD_SIZE + variation\n",
    "        \n",
    "def gen_good_ranking():\n",
    "    while True:\n",
    "        yield random.random()\n",
    "        \n",
    "def gen_bad_ranking():\n",
    "    while True:\n",
    "        yield random.random() * 10\n",
    "        \n",
    "def get_true_false():\n",
    "    while True:\n",
    "        yield random.choice([True, False])\n",
    "        "
   ]
  },
  {
   "cell_type": "code",
   "execution_count": 16,
   "metadata": {},
   "outputs": [],
   "source": [
    "good_data = []\n",
    "for i in range(500):\n",
    "    name = next(gen_name())\n",
    "    size = next(gen_good_size())\n",
    "    rank = next(gen_good_ranking())\n",
    "    classification = GOOD_CLASS\n",
    "    d = {'name': name, 'size': size, 'rank': rank, 'classification': classification}\n",
    "    good_data.append(d)"
   ]
  },
  {
   "cell_type": "code",
   "execution_count": 17,
   "metadata": {},
   "outputs": [],
   "source": [
    "bad_data = []\n",
    "for i in range(500):\n",
    "    name = next(gen_name())\n",
    "    size = next(gen_bad_size())\n",
    "    rank = next(gen_bad_ranking())\n",
    "    classification = BAD_CLASS\n",
    "    d = {'name': name, 'size': size, 'rank': rank, 'classification': classification}\n",
    "    bad_data.append(d)"
   ]
  },
  {
   "cell_type": "code",
   "execution_count": 24,
   "metadata": {},
   "outputs": [],
   "source": [
    "with open(FN_CSV, 'w') as csvfile:\n",
    "    headers = ['name', 'size', 'rank', 'classification']\n",
    "    writer = csv.DictWriter(csvfile, fieldnames=headers, lineterminator='\\n')\n",
    "    writer.writeheader()\n",
    "    writer.writerows(good_data + bad_data)"
   ]
  },
  {
   "cell_type": "code",
   "execution_count": 25,
   "metadata": {},
   "outputs": [],
   "source": [
    "with open(FN_JSON, 'w') as f:\n",
    "    json.dump(good_data + bad_data, f, indent=4, sort_keys=True)"
   ]
  },
  {
   "cell_type": "code",
   "execution_count": 22,
   "metadata": {},
   "outputs": [
    {
     "name": "stdout",
     "output_type": "stream",
     "text": [
      "Finished. Bye!\n"
     ]
    }
   ],
   "source": [
    "print('Finished. Bye!')"
   ]
  },
  {
   "cell_type": "code",
   "execution_count": 32,
   "metadata": {},
   "outputs": [],
   "source": [
    "unknown_data = []\n",
    "for i in range(100000):\n",
    "    good = random.choice([True, False])\n",
    "    name = next(gen_name())\n",
    "    if next(get_true_false()):\n",
    "        size = next(gen_good_size())\n",
    "    else:\n",
    "        size = next(gen_bad_size())\n",
    "        \n",
    "    if next(get_true_false()):\n",
    "        rank = next(gen_good_ranking())\n",
    "    else:\n",
    "        rank = next(gen_bad_ranking())\n",
    "        \n",
    "    d = {'name': name, 'size': size, 'rank': rank}\n",
    "    unknown_data.append(d)\n"
   ]
  },
  {
   "cell_type": "code",
   "execution_count": 35,
   "metadata": {},
   "outputs": [],
   "source": [
    "with open(UNK_CSV, 'w') as f:\n",
    "    fieldnames = ['name', 'size', 'rank']\n",
    "    writer = csv.DictWriter(f, fieldnames=fieldnames, lineterminator='\\n')\n",
    "    writer.writeheader()\n",
    "    writer.writerows(unknown_data)"
   ]
  },
  {
   "cell_type": "code",
   "execution_count": null,
   "metadata": {},
   "outputs": [],
   "source": []
  }
 ],
 "metadata": {
  "kernelspec": {
   "display_name": "Python 3",
   "language": "python",
   "name": "python3"
  },
  "language_info": {
   "codemirror_mode": {
    "name": "ipython",
    "version": 3
   },
   "file_extension": ".py",
   "mimetype": "text/x-python",
   "name": "python",
   "nbconvert_exporter": "python",
   "pygments_lexer": "ipython3",
   "version": "3.6.2"
  }
 },
 "nbformat": 4,
 "nbformat_minor": 2
}
